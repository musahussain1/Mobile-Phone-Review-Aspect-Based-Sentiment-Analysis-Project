{
  "cells": [
    {
      "cell_type": "markdown",
      "metadata": {
        "id": "SauTx5b2RLGg"
      },
      "source": [
        "# Parameters"
      ]
    },
    {
      "cell_type": "code",
      "execution_count": null,
      "metadata": {
        "id": "nd_tRk73ROf6"
      },
      "outputs": [],
      "source": [
        "max_records_to_read = 1000000"
      ]
    },
    {
      "cell_type": "markdown",
      "metadata": {
        "id": "y9IR0yGzRRSJ"
      },
      "source": [
        "# Reading Data"
      ]
    },
    {
      "cell_type": "code",
      "execution_count": 2,
      "metadata": {
        "colab": {
          "base_uri": "https://localhost:8080/"
        },
        "id": "e87Y1-xjLn7x",
        "outputId": "f7749882-f7f0-4247-bbc0-54413e7a0e2e"
      },
      "outputs": [
        {
          "name": "stdout",
          "output_type": "stream",
          "text": [
            "Drive already mounted at /content/drive; to attempt to forcibly remount, call drive.mount(\"/content/drive\", force_remount=True).\n",
            "Current working directory: /content/drive/Othercomputers/Laptop/Freelance Work 2024-2025/Musa/Aspect Based Sentiment Analysis\n"
          ]
        }
      ],
      "source": [
        "import os\n",
        "from google.colab import drive\n",
        "\n",
        "# Mounting drive\n",
        "drive.mount('/content/drive')\n",
        "\n",
        "# Changing directory\n",
        "project_path = '/content/drive/Aspect Based Sentiment Analysis'\n",
        "os.chdir(project_path)\n",
        "\n",
        "print(\"Current working directory:\", os.getcwd())"
      ]
    },
    {
      "cell_type": "code",
      "execution_count": 13,
      "metadata": {
        "colab": {
          "base_uri": "https://localhost:8080/"
        },
        "id": "uobdzDQPLgmc",
        "outputId": "d55aab59-0c30-4ef5-f56a-0b5062174388"
      },
      "outputs": [
        {
          "name": "stderr",
          "output_type": "stream",
          "text": [
            "1000000it [00:17, 58303.10it/s]"
          ]
        },
        {
          "name": "stdout",
          "output_type": "stream",
          "text": [
            "Total records: 1000000\n"
          ]
        },
        {
          "name": "stderr",
          "output_type": "stream",
          "text": [
            "\n"
          ]
        }
      ],
      "source": [
        "import json\n",
        "from tqdm import tqdm\n",
        "\n",
        "all_records = []\n",
        "\n",
        "# Opening file\n",
        "file_path = \"Data/Cell_Phones_and_Accessories.jsonl\"\n",
        "with open(file_path, 'r') as fp:\n",
        "\n",
        "    for line in tqdm(fp):\n",
        "\n",
        "      # Checking if max records reached\n",
        "      if len(all_records) >= max_records_to_read:\n",
        "        break\n",
        "      record = json.loads(line.strip())\n",
        "\n",
        "      # Dropping unnecessary information\n",
        "      record.pop(\"images\")\n",
        "      record.pop(\"user_id\")\n",
        "      record.pop(\"asin\")\n",
        "      record.pop(\"parent_asin\")\n",
        "\n",
        "      # Storing record\n",
        "      all_records.append(record)\n",
        "\n",
        "print(f\"Total records: {len(all_records)}\")"
      ]
    },
    {
      "cell_type": "code",
      "execution_count": 15,
      "metadata": {
        "colab": {
          "base_uri": "https://localhost:8080/"
        },
        "id": "BZ2z26MDNqIL",
        "outputId": "c91c1845-0b6d-4649-e076-9f32a0062175"
      },
      "outputs": [
        {
          "name": "stdout",
          "output_type": "stream",
          "text": [
            "|    |   rating | title                               | text                                                                                                                                                                                                                                                                                                                                                                                                                                                                                                                                                                                                                                                                                                                                                                                                                                                                                                                                                                                                                                                                                                                         |     timestamp |   helpful_vote | verified_purchase   |\n",
            "|---:|---------:|:------------------------------------|:-----------------------------------------------------------------------------------------------------------------------------------------------------------------------------------------------------------------------------------------------------------------------------------------------------------------------------------------------------------------------------------------------------------------------------------------------------------------------------------------------------------------------------------------------------------------------------------------------------------------------------------------------------------------------------------------------------------------------------------------------------------------------------------------------------------------------------------------------------------------------------------------------------------------------------------------------------------------------------------------------------------------------------------------------------------------------------------------------------------------------------|--------------:|---------------:|:--------------------|\n",
            "|  0 |        4 | No white background! It’s clear!    | I bought this bc I thought it had the nice white background. Turns out it’s clear & since my phone is blue it doesn’t look anything like this.  If I had known that I would have purchased something else. It works ok.                                                                                                                                                                                                                                                                                                                                                                                                                                                                                                                                                                                                                                                                                                                                                                                                                                                                                                      | 1612044451196 |              0 | True                |\n",
            "|  1 |        5 | Awesome!  Great price!  Works well! | Perfect. How pissed am I that I recently paid $20 for 1 Fitbit cable and promptly lost the damned thing?  Extremely pissed!  I keep the spare in my medicine bag so hopefully I won’t lose it and my grandson can’t get to it and try to use it as a belt or a dog leash or any of the other nutty things he’s been using the other one for.                                                                                                                                                                                                                                                                                                                                                                                                                                                                                                                                                                                                                                                                                                                                                                                 | 1534443517349 |              2 | True                |\n",
            "|  2 |        5 | Worked but took an hour to install  | Overall very happy with the end result. If you hate puzzles don’t do it. I love puzzles and it worked for me. Took a lot of concentration and attention to detail and about an hour! The YouTube video helped a ton with installing the new screen. Highly recommend using a how to video when replacing your screen. The tools and supplies they provided were adequate. I did use additional tools from my home to successfully installed a new screen. My screws on the inside of the iPhone were stuck and I had to use an X-Acto knife to get them to come out. The glass Screen for the iPhone was beautiful and worked great. The screen protector that was additional came cracked (Not a big deal as it was extra in my eyes). I did need to use the X-Acto knife to cut off part of a plastic piece to make the final fit. So yes I modified the screen and instructions but ended up working great for me.<br /><br />I was very careful with all of the circuit boards and connections as recommended on the YouTube video. My screen replacement was very successful and I’m very happy with how it turned out. | 1629235304798 |              3 | True                |\n",
            "|  3 |        4 | Decent                              | Lasted about 9 months then the lock button broke off. Decent product but costing scrapes off like crazy.  I shredded this case. Protected my phone tho                                                                                                                                                                                                                                                                                                                                                                                                                                                                                                                                                                                                                                                                                                                                                                                                                                                                                                                                                                       | 1590470082910 |              0 | True                |\n",
            "|  4 |        5 | LOVE IT!                            | LOVE THIS CASE! Works better than my expensive $35 cases! lol                                                                                                                                                                                                                                                                                                                                                                                                                                                                                                                                                                                                                                                                                                                                                                                                                                                                                                                                                                                                                                                                | 1408994588000 |              0 | True                |\n"
          ]
        }
      ],
      "source": [
        "import pandas as pd\n",
        "\n",
        "# Converting to a pandas DataFrame\n",
        "df = pd.DataFrame(all_records)\n",
        "print(df.head().to_markdown())\n",
        "\n",
        "# Deleting records list for memory save\n",
        "del(all_records)"
      ]
    },
    {
      "cell_type": "code",
      "execution_count": 16,
      "metadata": {
        "colab": {
          "base_uri": "https://localhost:8080/"
        },
        "id": "nMjz2LrpOt67",
        "outputId": "84d065ae-2ae0-495b-875b-755e3e7d9220"
      },
      "outputs": [
        {
          "data": {
            "text/plain": [
              "(1000000, 6)"
            ]
          },
          "execution_count": 16,
          "metadata": {},
          "output_type": "execute_result"
        }
      ],
      "source": [
        "df.shape"
      ]
    },
    {
      "cell_type": "code",
      "execution_count": 17,
      "metadata": {
        "colab": {
          "base_uri": "https://localhost:8080/"
        },
        "id": "bBn5E7HyRrK6",
        "outputId": "073d2cef-ee94-483e-c836-d4639d610484"
      },
      "outputs": [
        {
          "name": "stdout",
          "output_type": "stream",
          "text": [
            "DataFrame saved to Data/loaded_data.csv\n"
          ]
        }
      ],
      "source": [
        "# Saving the DataFrame to a CSV\n",
        "newfile_path = \"Data/loaded_data.csv\"\n",
        "df.to_csv(newfile_path, index=False)\n",
        "print(f\"DataFrame saved to {newfile_path}\")"
      ]
    },
    {
      "cell_type": "code",
      "execution_count": null,
      "metadata": {
        "id": "CaM1LVnqT2NE"
      },
      "outputs": [],
      "source": []
    }
  ],
  "metadata": {
    "colab": {
      "provenance": []
    },
    "kernelspec": {
      "display_name": "Python 3",
      "name": "python3"
    },
    "language_info": {
      "name": "python"
    }
  },
  "nbformat": 4,
  "nbformat_minor": 0
}
